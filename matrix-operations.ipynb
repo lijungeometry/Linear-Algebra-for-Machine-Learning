{
 "cells": [
  {
   "cell_type": "markdown",
   "metadata": {},
   "source": [
    "## Transpose"
   ]
  },
  {
   "cell_type": "code",
   "execution_count": 2,
   "metadata": {},
   "outputs": [
    {
     "name": "stdout",
     "output_type": "stream",
     "text": [
      "[[1 3 5]\n",
      " [2 4 6]]\n"
     ]
    }
   ],
   "source": [
    "# The Transpose operation for flipping the dimensions of a matrix.\n",
    "# A defined matrix can be transposed, which creates a new matrix with the number of columns\n",
    "# and rows flipped\n",
    "from numpy import array\n",
    "\n",
    "A = array([\n",
    "    [1, 2],\n",
    "    [3, 4],\n",
    "    [5, 6]\n",
    "])\n",
    "\n",
    "# Calculate transpose\n",
    "C = A.T\n",
    "print(C) # [[1 3 5]\n",
    "         #  [2 4 6]]"
   ]
  },
  {
   "cell_type": "markdown",
   "metadata": {},
   "source": [
    "## Inverse"
   ]
  },
  {
   "cell_type": "code",
   "execution_count": 3,
   "metadata": {},
   "outputs": [
    {
     "name": "stdout",
     "output_type": "stream",
     "text": [
      "[[-2.   1. ]\n",
      " [ 1.5 -0.5]]\n",
      "[[1.0000000e+00 0.0000000e+00]\n",
      " [8.8817842e-16 1.0000000e+00]]\n"
     ]
    }
   ],
   "source": [
    "# The Inverse operations used in solving systems of linear equations.\n",
    "# Matrix inversion is a process that finds another matrix that when multiplied with the matrix,\n",
    "# results in an identity matrix\n",
    "from numpy import array\n",
    "from numpy.linalg import inv\n",
    "\n",
    "A = array([\n",
    "    [1.0, 2.0],\n",
    "    [3.0, 4.0]\n",
    "])\n",
    "\n",
    "# invert matrix\n",
    "B = inv(A)\n",
    "print(B) # [[-2.   1. ]\n",
    "         #  [ 1.5 -0.5]]\n",
    "\n",
    "# multiply A and B\n",
    "I = A.dot(B)\n",
    "print(I) # [[1.0000000e+00 0.0000000e+00] # float \n",
    "         #  [8.8817842e-16 1.0000000e+00]]"
   ]
  },
  {
   "cell_type": "markdown",
   "metadata": {},
   "source": [
    "## Trace"
   ]
  },
  {
   "cell_type": "code",
   "execution_count": 5,
   "metadata": {},
   "outputs": [
    {
     "name": "stdout",
     "output_type": "stream",
     "text": [
      "15\n"
     ]
    }
   ],
   "source": [
    "# A trace of a square matrix is the sum of the values on the main diagonal of the matrix \n",
    "# (top-left to bottom-right)\n",
    "# tr(A) =A[0,0] +A[1,1] +A[2,2]\n",
    "\n",
    "from numpy import array\n",
    "from numpy import trace\n",
    "\n",
    "A = array([\n",
    "    [1, 2, 3],\n",
    "    [4, 5, 6],\n",
    "    [7, 8, 9]\n",
    "])\n",
    "\n",
    "# Calculate trace\n",
    "B = trace(A)\n",
    "print(B) # 15 = 1 + 5 + 9"
   ]
  },
  {
   "cell_type": "markdown",
   "metadata": {},
   "source": [
    "## Determinant"
   ]
  },
  {
   "cell_type": "code",
   "execution_count": 6,
   "metadata": {},
   "outputs": [
    {
     "name": "stdout",
     "output_type": "stream",
     "text": [
      "6.66133814775094e-16\n"
     ]
    }
   ],
   "source": [
    "# The determinant of a square matrix is a scalar representation of the volume of the matrix.\n",
    "from numpy import array\n",
    "from numpy.linalg import det\n",
    "\n",
    "A = array([\n",
    "    [1, 2, 3],\n",
    "    [4, 5, 6],\n",
    "    [7, 8, 9]\n",
    "])\n",
    "\n",
    "# Calculate determinant\n",
    "B = det(A)\n",
    "print(B)  # 6.66133814775094e-16 - should be 0"
   ]
  },
  {
   "cell_type": "markdown",
   "metadata": {},
   "source": [
    "## Rank"
   ]
  },
  {
   "cell_type": "code",
   "execution_count": 8,
   "metadata": {},
   "outputs": [
    {
     "name": "stdout",
     "output_type": "stream",
     "text": [
      "1\n",
      "0\n"
     ]
    }
   ],
   "source": [
    "# The rank of a matrix is the estimate of the number of linearly independent rows or columns in a matrix\n",
    "# An intuition for rank is to consider it the number of dimensions spanned by all of the vectors\n",
    "# within a matrix\n",
    "from numpy import array\n",
    "from numpy.linalg import matrix_rank\n",
    "\n",
    "# rank\n",
    "v1 = array([1, 2, 3])\n",
    "vr1 = matrix_rank(v1)\n",
    "print(vr1) # 1\n",
    "\n",
    "# zero rank\n",
    "v2 = array([0, 0, 0, 0, 0])\n",
    "vr2 = matrix_rank(v2)\n",
    "print(vr2) # 0"
   ]
  },
  {
   "cell_type": "code",
   "execution_count": 14,
   "metadata": {},
   "outputs": [
    {
     "name": "stdout",
     "output_type": "stream",
     "text": [
      "0\n",
      "1\n",
      "2\n"
     ]
    }
   ],
   "source": [
    "# matrix rank\n",
    "from numpy import array\n",
    "from numpy.linalg import matrix_rank\n",
    "\n",
    "# rank 0\n",
    "M0 = array([\n",
    "    [0, 0],\n",
    "    [0, 0]\n",
    "])\n",
    "print(matrix_rank(M0)) # 0\n",
    "\n",
    "# rank 1\n",
    "M1 = array([\n",
    "    [1, 2],\n",
    "    [1, 2]\n",
    "])\n",
    "print(matrix_rank(M1)) # 1\n",
    "\n",
    "# rank 2\n",
    "M2 = array([\n",
    "    [1, 2],\n",
    "    [3, 4]\n",
    "])\n",
    "print(matrix_rank(M2)) # 2"
   ]
  },
  {
   "cell_type": "code",
   "execution_count": null,
   "metadata": {},
   "outputs": [],
   "source": []
  }
 ],
 "metadata": {
  "kernelspec": {
   "display_name": "Python 3",
   "language": "python",
   "name": "python3"
  },
  "language_info": {
   "codemirror_mode": {
    "name": "ipython",
    "version": 3
   },
   "file_extension": ".py",
   "mimetype": "text/x-python",
   "name": "python",
   "nbconvert_exporter": "python",
   "pygments_lexer": "ipython3",
   "version": "3.7.0"
  }
 },
 "nbformat": 4,
 "nbformat_minor": 2
}
