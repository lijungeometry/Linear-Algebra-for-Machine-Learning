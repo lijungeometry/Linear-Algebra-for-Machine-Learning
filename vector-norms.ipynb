{
 "cells": [
  {
   "cell_type": "markdown",
   "metadata": {},
   "source": [
    "### The L1 norm is often used when fitting machine learning algorithms as a regularization method, e.g. a method to keep the coefficients of the model small, and in turn, the model less complex"
   ]
  },
  {
   "cell_type": "code",
   "execution_count": 4,
   "metadata": {},
   "outputs": [
    {
     "name": "stdout",
     "output_type": "stream",
     "text": [
      "6.0\n"
     ]
    }
   ],
   "source": [
    "# Vector L1 norm\n",
    "# The L1 norm is calculated as the sum of the absolute vector values\n",
    "from numpy import array\n",
    "from numpy.linalg import norm\n",
    "\n",
    "a = array([1, -2, 3])\n",
    "\n",
    "# Calculate norm\n",
    "l1 = norm(a, 1) # norm order: 1\n",
    "print(l1) # 6.0"
   ]
  },
  {
   "cell_type": "markdown",
   "metadata": {},
   "source": [
    "### Like the L1 norm, the L2 norm is often used when fitting machine learning algorithms as a regularization method, e.g. a method to keep the coefficients of the model small and, in turn, the model less complex. By far, the L2 norm is more commonly used than other vector norms in marchine learning"
   ]
  },
  {
   "cell_type": "code",
   "execution_count": 5,
   "metadata": {},
   "outputs": [
    {
     "name": "stdout",
     "output_type": "stream",
     "text": [
      "3.7416573867739413\n"
     ]
    }
   ],
   "source": [
    "# Vector L2 norm\n",
    "# The L2 norm that is calculated as the square root of the sum of \n",
    "# the squared vector values.\n",
    "from numpy import array\n",
    "from numpy.linalg import norm\n",
    "\n",
    "a = array([1, -2, 3])\n",
    "\n",
    "# Calculate norm\n",
    "l2 = norm(a)\n",
    "print(l2) # 3.7416573867739413"
   ]
  },
  {
   "cell_type": "code",
   "execution_count": 6,
   "metadata": {},
   "outputs": [
    {
     "name": "stdout",
     "output_type": "stream",
     "text": [
      "3.0\n"
     ]
    }
   ],
   "source": [
    "# Vector max norm\n",
    "# Max norm is also used as a regularization in machine learning, \n",
    "# such as on neural network weights, called max norm regularization.\n",
    "\n",
    "from math import inf\n",
    "from numpy import array\n",
    "from numpy.linalg import norm\n",
    "\n",
    "a = array([1, -2, 3])\n",
    "\n",
    "# Calculate norm\n",
    "maxnorm = norm(a, inf)\n",
    "print(maxnorm) # 3.0"
   ]
  },
  {
   "cell_type": "code",
   "execution_count": null,
   "metadata": {},
   "outputs": [],
   "source": []
  }
 ],
 "metadata": {
  "kernelspec": {
   "display_name": "Python 3",
   "language": "python",
   "name": "python3"
  },
  "language_info": {
   "codemirror_mode": {
    "name": "ipython",
    "version": 3
   },
   "file_extension": ".py",
   "mimetype": "text/x-python",
   "name": "python",
   "nbconvert_exporter": "python",
   "pygments_lexer": "ipython3",
   "version": "3.7.1"
  }
 },
 "nbformat": 4,
 "nbformat_minor": 2
}
