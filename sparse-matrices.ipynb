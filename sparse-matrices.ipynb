{
 "cells": [
  {
   "cell_type": "markdown",
   "metadata": {},
   "source": [
    "## A sparse matrix is a matrix that is comprised of mostly zero values."
   ]
  },
  {
   "cell_type": "code",
   "execution_count": 7,
   "metadata": {},
   "outputs": [
    {
     "name": "stdout",
     "output_type": "stream",
     "text": [
      "0.6666666666666667\n",
      "  (0, 0)\t1\n",
      "  (0, 3)\t1\n",
      "  (1, 1)\t2\n",
      "  (1, 3)\t1\n",
      "  (1, 5)\t1\n",
      "  (2, 3)\t2\n",
      "[[1 0 0 1 0 0]\n",
      " [0 2 0 1 0 1]\n",
      " [0 0 0 2 0 0]]\n"
     ]
    }
   ],
   "source": [
    "# Sparse matrix\n",
    "from numpy import array\n",
    "from numpy import count_nonzero\n",
    "from scipy.sparse import csr_matrix # compressed sparse row\n",
    "\n",
    "A = array([\n",
    "    [1, 0, 0, 1, 0, 0],\n",
    "    [0, 2, 0, 1, 0, 1],\n",
    "    [0, 0, 0, 2, 0, 0]\n",
    "])\n",
    "\n",
    "# Calculate sparsity\n",
    "sparsity = 1.0 - count_nonzero(A) / A.size\n",
    "print(sparsity) # 0.6666666666666667\n",
    "\n",
    "# Convert to sparse matrix (CSR method)\n",
    "S = csr_matrix(A)\n",
    "print(S)  # (0, 0)\t1\n",
    "          # (0, 3)\t1\n",
    "          # (1, 1)\t2\n",
    "          # (1, 3)\t1\n",
    "          # (1, 5)\t1\n",
    "          # (2, 3)\t2\n",
    "# reconstruct dense matrix\n",
    "B = S.todense()\n",
    "print(B) # [[1 0 0 1 0 0]\n",
    "         #  [0 2 0 1 0 1]\n",
    "         #  [0 0 0 2 0 0]]"
   ]
  },
  {
   "cell_type": "code",
   "execution_count": null,
   "metadata": {},
   "outputs": [],
   "source": []
  }
 ],
 "metadata": {
  "kernelspec": {
   "display_name": "Python 3",
   "language": "python",
   "name": "python3"
  },
  "language_info": {
   "codemirror_mode": {
    "name": "ipython",
    "version": 3
   },
   "file_extension": ".py",
   "mimetype": "text/x-python",
   "name": "python",
   "nbconvert_exporter": "python",
   "pygments_lexer": "ipython3",
   "version": "3.7.0"
  }
 },
 "nbformat": 4,
 "nbformat_minor": 2
}
