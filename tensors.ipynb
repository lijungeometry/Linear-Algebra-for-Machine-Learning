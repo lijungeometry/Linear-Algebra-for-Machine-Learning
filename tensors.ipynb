{
 "cells": [
  {
   "cell_type": "markdown",
   "metadata": {},
   "source": [
    "# What is Tensors\n",
    "### A tensor is a generalization of vectors and matrices and is easily understood as a multidimensional array."
   ]
  },
  {
   "cell_type": "code",
   "execution_count": 1,
   "metadata": {
    "scrolled": true
   },
   "outputs": [
    {
     "name": "stdout",
     "output_type": "stream",
     "text": [
      "(3, 3, 3)\n",
      "[[[ 1  2  3]\n",
      "  [ 4  5  6]\n",
      "  [ 7  8  9]]\n",
      "\n",
      " [[11 12 13]\n",
      "  [14 15 16]\n",
      "  [17 18 19]]\n",
      "\n",
      " [[21 22 23]\n",
      "  [24 25 26]\n",
      "  [27 28 29]]]\n"
     ]
    }
   ],
   "source": [
    "# Create tensors\n",
    "from numpy import array\n",
    "T = array([\n",
    "    [[1,2,3], [4,5,6], [7,8,9]],\n",
    "    [[11,12,13], [14,15,16], [17,18,19]],\n",
    "    [[21,22,23], [24,25,26], [27,28,29]]\n",
    "])\n",
    "print(T.shape) # (3, 3, 3)\n",
    "print(T)"
   ]
  },
  {
   "cell_type": "code",
   "execution_count": 2,
   "metadata": {},
   "outputs": [
    {
     "name": "stdout",
     "output_type": "stream",
     "text": [
      "[[[ 2  4  6]\n",
      "  [ 8 10 12]\n",
      "  [14 16 18]]\n",
      "\n",
      " [[22 24 26]\n",
      "  [28 30 32]\n",
      "  [34 36 38]]\n",
      "\n",
      " [[42 44 46]\n",
      "  [48 50 52]\n",
      "  [54 56 58]]]\n"
     ]
    }
   ],
   "source": [
    "# Tensor Addition\n",
    "from numpy import array\n",
    "A = array([\n",
    "    [[1,2,3], [4,5,6], [7,8,9]],\n",
    "    [[11,12,13], [14,15,16], [17,18,19]],\n",
    "    [[21,22,23], [24,25,26], [27,28,29]]\n",
    "])\n",
    "\n",
    "B = array([\n",
    "    [[1,2,3], [4,5,6], [7,8,9]],\n",
    "    [[11,12,13], [14,15,16], [17,18,19]],\n",
    "    [[21,22,23], [24,25,26], [27,28,29]]\n",
    "])\n",
    "\n",
    "# Add tensors\n",
    "C = A + B\n",
    "print(C)"
   ]
  },
  {
   "cell_type": "code",
   "execution_count": 3,
   "metadata": {},
   "outputs": [
    {
     "name": "stdout",
     "output_type": "stream",
     "text": [
      "[[[0 0 0]\n",
      "  [0 0 0]\n",
      "  [0 0 0]]\n",
      "\n",
      " [[0 0 0]\n",
      "  [0 0 0]\n",
      "  [0 0 0]]\n",
      "\n",
      " [[0 0 0]\n",
      "  [0 0 0]\n",
      "  [0 0 0]]]\n"
     ]
    }
   ],
   "source": [
    "# Tensor Substraction\n",
    "from numpy import array\n",
    "A = array([\n",
    "    [[1,2,3], [4,5,6], [7,8,9]],\n",
    "    [[11,12,13], [14,15,16], [17,18,19]],\n",
    "    [[21,22,23], [24,25,26], [27,28,29]]\n",
    "])\n",
    "\n",
    "B = array([\n",
    "    [[1,2,3], [4,5,6], [7,8,9]],\n",
    "    [[11,12,13], [14,15,16], [17,18,19]],\n",
    "    [[21,22,23], [24,25,26], [27,28,29]]\n",
    "])\n",
    "\n",
    "# Substract tensors\n",
    "C = A - B\n",
    "print(C)"
   ]
  },
  {
   "cell_type": "code",
   "execution_count": 4,
   "metadata": {},
   "outputs": [
    {
     "name": "stdout",
     "output_type": "stream",
     "text": [
      "[[[  1   4   9]\n",
      "  [ 16  25  36]\n",
      "  [ 49  64  81]]\n",
      "\n",
      " [[121 144 169]\n",
      "  [196 225 256]\n",
      "  [289 324 361]]\n",
      "\n",
      " [[441 484 529]\n",
      "  [576 625 676]\n",
      "  [729 784 841]]]\n"
     ]
    }
   ],
   "source": [
    "# Tensor Hadamard product\n",
    "from numpy import array\n",
    "A = array([\n",
    "    [[1,2,3], [4,5,6], [7,8,9]],\n",
    "    [[11,12,13], [14,15,16], [17,18,19]],\n",
    "    [[21,22,23], [24,25,26], [27,28,29]]\n",
    "])\n",
    "\n",
    "B = array([\n",
    "    [[1,2,3], [4,5,6], [7,8,9]],\n",
    "    [[11,12,13], [14,15,16], [17,18,19]],\n",
    "    [[21,22,23], [24,25,26], [27,28,29]]\n",
    "])\n",
    "\n",
    "# Multiply tensors\n",
    "C = A * B\n",
    "print(C)"
   ]
  },
  {
   "cell_type": "code",
   "execution_count": 5,
   "metadata": {},
   "outputs": [
    {
     "name": "stdout",
     "output_type": "stream",
     "text": [
      "[[[1. 1. 1.]\n",
      "  [1. 1. 1.]\n",
      "  [1. 1. 1.]]\n",
      "\n",
      " [[1. 1. 1.]\n",
      "  [1. 1. 1.]\n",
      "  [1. 1. 1.]]\n",
      "\n",
      " [[1. 1. 1.]\n",
      "  [1. 1. 1.]\n",
      "  [1. 1. 1.]]]\n"
     ]
    }
   ],
   "source": [
    "# Tensor Division\n",
    "from numpy import array\n",
    "A = array([\n",
    "    [[1,2,3], [4,5,6], [7,8,9]],\n",
    "    [[11,12,13], [14,15,16], [17,18,19]],\n",
    "    [[21,22,23], [24,25,26], [27,28,29]]\n",
    "])\n",
    "\n",
    "B = array([\n",
    "    [[1,2,3], [4,5,6], [7,8,9]],\n",
    "    [[11,12,13], [14,15,16], [17,18,19]],\n",
    "    [[21,22,23], [24,25,26], [27,28,29]]\n",
    "])\n",
    "\n",
    "# Divide tensors\n",
    "C = A / B\n",
    "print(C)"
   ]
  },
  {
   "cell_type": "code",
   "execution_count": 6,
   "metadata": {},
   "outputs": [
    {
     "name": "stdout",
     "output_type": "stream",
     "text": [
      "[[3 4]\n",
      " [6 8]]\n"
     ]
    }
   ],
   "source": [
    "# Tensor Product\n",
    "from numpy import array\n",
    "from numpy import tensordot\n",
    "\n",
    "A = array([1, 2])\n",
    "B = array([3, 4])\n",
    "\n",
    "# Calculate tensor product\n",
    "C = tensordot(A, B, axes = 0)\n",
    "print(C) # [[3 4]\n",
    "         #  [6 8]]"
   ]
  },
  {
   "cell_type": "code",
   "execution_count": null,
   "metadata": {},
   "outputs": [],
   "source": []
  }
 ],
 "metadata": {
  "kernelspec": {
   "display_name": "Python 3",
   "language": "python",
   "name": "python3"
  },
  "language_info": {
   "codemirror_mode": {
    "name": "ipython",
    "version": 3
   },
   "file_extension": ".py",
   "mimetype": "text/x-python",
   "name": "python",
   "nbconvert_exporter": "python",
   "pygments_lexer": "ipython3",
   "version": "3.7.1"
  }
 },
 "nbformat": 4,
 "nbformat_minor": 2
}
