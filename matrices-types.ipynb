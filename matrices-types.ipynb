{
 "cells": [
  {
   "cell_type": "markdown",
   "metadata": {},
   "source": [
    "# Types of Matrices"
   ]
  },
  {
   "cell_type": "markdown",
   "metadata": {},
   "source": [
    "## 1. Square Matrix"
   ]
  },
  {
   "cell_type": "code",
   "execution_count": 1,
   "metadata": {},
   "outputs": [],
   "source": [
    "# A square matrix is a matrix where the number of rows (n) \n",
    "# is equivalent to the number of columns (m)"
   ]
  },
  {
   "cell_type": "markdown",
   "metadata": {},
   "source": [
    "## 2. Symmetric Matrix"
   ]
  },
  {
   "cell_type": "code",
   "execution_count": 3,
   "metadata": {},
   "outputs": [],
   "source": [
    "# A symmetric matrix is a type of square matrix \n",
    "# where the top-right triangle is the same as the bottom-left triangle\n",
    "\n",
    "# A = [\n",
    "#     [1 2 3 4 5],\n",
    "#     [2 1 2 3 4],\n",
    "#     [3 2 1 2 3],\n",
    "#     [4 3 2 1 2],\n",
    "#     [5 4 3 2 1]\n",
    "# ]\n",
    "\n",
    "# M = MT (Equal to its own transpose)"
   ]
  },
  {
   "cell_type": "markdown",
   "metadata": {},
   "source": [
    "## 3. Triangular Matrix"
   ]
  },
  {
   "cell_type": "code",
   "execution_count": 4,
   "metadata": {},
   "outputs": [
    {
     "name": "stdout",
     "output_type": "stream",
     "text": [
      "[[1 0 0]\n",
      " [1 2 0]\n",
      " [1 2 3]]\n",
      "[[1 2 3]\n",
      " [0 2 3]\n",
      " [0 0 3]]\n"
     ]
    }
   ],
   "source": [
    "# A triangular matrix is a type of square matrix that has all values \n",
    "# in the upper-right or lower-left of the matrix with \n",
    "# the remaining elements filled with zero values.\n",
    "\n",
    "# A = [\n",
    "#     [1 2 3],\n",
    "#     [0 1 2],\n",
    "#     [0 0 3],\n",
    "# ]\n",
    "\n",
    "# triangular matrices\n",
    "from numpy import array\n",
    "from numpy import tril\n",
    "from numpy import triu\n",
    "\n",
    "M = array([\n",
    "    [1, 2, 3],\n",
    "    [1, 2, 3],\n",
    "    [1, 2, 3]\n",
    "])\n",
    "\n",
    "# lower triangle matrix\n",
    "lower = tril(M)\n",
    "print(lower) # [[1 0 0]\n",
    "             #  [1 2 0]\n",
    "             #  [1 2 3]]\n",
    "\n",
    "# upper triangular matrix\n",
    "upper = triu(M)\n",
    "print(upper) # [[1 2 3]\n",
    "             #  [0 2 3]\n",
    "             #  [0 0 3]]"
   ]
  },
  {
   "cell_type": "markdown",
   "metadata": {},
   "source": [
    "## 4. Diagonal Matrix"
   ]
  },
  {
   "cell_type": "code",
   "execution_count": 5,
   "metadata": {},
   "outputs": [
    {
     "name": "stdout",
     "output_type": "stream",
     "text": [
      "[1 2 3]\n",
      "[[1 0 0]\n",
      " [0 2 0]\n",
      " [0 0 3]]\n"
     ]
    }
   ],
   "source": [
    "# A diagonal matrix is one where values outside of the main diagonal \n",
    "# have a zero value, where the main diagonal is taken from the top left \n",
    "# of the matrix to the bottom right. A diagonal matrix\n",
    "\n",
    "# Diagonal matrix\n",
    "from numpy import array\n",
    "from numpy import diag\n",
    "\n",
    "M = array([\n",
    "    [1, 2, 3],\n",
    "    [1, 2, 3],\n",
    "    [1, 2, 3]\n",
    "])\n",
    "\n",
    "# Extract diagonal vector\n",
    "d = diag(M) # [1 2 3]\n",
    "print(d)\n",
    "# Create diagonal matrix from vector\n",
    "D = diag(d)\n",
    "print(D) # [[1 0 0]\n",
    "         #  [0 2 0]\n",
    "         #  [0 0 3]]"
   ]
  },
  {
   "cell_type": "markdown",
   "metadata": {},
   "source": [
    "## 5. Identity Matrix"
   ]
  },
  {
   "cell_type": "code",
   "execution_count": 7,
   "metadata": {},
   "outputs": [
    {
     "name": "stdout",
     "output_type": "stream",
     "text": [
      "[[1. 0. 0.]\n",
      " [0. 1. 0.]\n",
      " [0. 0. 1.]]\n"
     ]
    }
   ],
   "source": [
    "# An identity matrix is a matrix that does not change \n",
    "# any vector when we multiply that vector by that matrix.\n",
    "\n",
    "# Identify matrix\n",
    "from numpy import identity\n",
    "I = identity(3)\n",
    "print(I) # [[1. 0. 0.]\n",
    "         #  [0. 1. 0.]\n",
    "         #  [0. 0. 1.]]"
   ]
  },
  {
   "cell_type": "markdown",
   "metadata": {},
   "source": [
    "## 6. Orthogonal Matrix"
   ]
  },
  {
   "cell_type": "code",
   "execution_count": 8,
   "metadata": {},
   "outputs": [
    {
     "name": "stdout",
     "output_type": "stream",
     "text": [
      "[[ 1  0]\n",
      " [ 0 -1]]\n",
      "[[ 1.  0.]\n",
      " [-0. -1.]]\n",
      "[[1 0]\n",
      " [0 1]]\n"
     ]
    }
   ],
   "source": [
    "# Two vectors are orthogonal when their dot product equals zero. \n",
    "# The length of each vector is 1 then the vectors are called o\n",
    "# rthonormal because they are both orthogonal and normalized.\n",
    "\n",
    "# QT * Q = Q * QT = I (transpose)\n",
    "\n",
    "from numpy import array\n",
    "from numpy.linalg import inv\n",
    "\n",
    "Q = array([\n",
    "    [1, 0],\n",
    "    [0, -1]\n",
    "])\n",
    "\n",
    "# Inverse equivalence\n",
    "V = inv(Q)\n",
    "print(Q.T) # [[ 1  0]\n",
    "           #  [ 0 -1]]\n",
    "print(V) # [[ 1.  0.]\n",
    "         #  [-0. -1.]]\n",
    "\n",
    "# Identity equivalence\n",
    "I = Q.dot(Q.T)\n",
    "print(I) # [[1 0]\n",
    "         #  [0 1]]"
   ]
  },
  {
   "cell_type": "code",
   "execution_count": null,
   "metadata": {},
   "outputs": [],
   "source": []
  }
 ],
 "metadata": {
  "kernelspec": {
   "display_name": "Python 3",
   "language": "python",
   "name": "python3"
  },
  "language_info": {
   "codemirror_mode": {
    "name": "ipython",
    "version": 3
   },
   "file_extension": ".py",
   "mimetype": "text/x-python",
   "name": "python",
   "nbconvert_exporter": "python",
   "pygments_lexer": "ipython3",
   "version": "3.7.1"
  }
 },
 "nbformat": 4,
 "nbformat_minor": 2
}
