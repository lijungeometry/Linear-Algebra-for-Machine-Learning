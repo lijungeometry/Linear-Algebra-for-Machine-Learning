{
 "cells": [
  {
   "cell_type": "code",
   "execution_count": 1,
   "metadata": {},
   "outputs": [
    {
     "name": "stdout",
     "output_type": "stream",
     "text": [
      "[[1 2 3]\n",
      " [4 5 6]]\n"
     ]
    }
   ],
   "source": [
    "# Define a matrix\n",
    "from numpy import array \n",
    "\n",
    "A = array([\n",
    "    [1, 2, 3],\n",
    "    [4, 5, 6]\n",
    "])\n",
    "\n",
    "print(A) # 2x3 matrix"
   ]
  },
  {
   "cell_type": "code",
   "execution_count": 2,
   "metadata": {},
   "outputs": [
    {
     "name": "stdout",
     "output_type": "stream",
     "text": [
      "[[ 2  4  6]\n",
      " [ 8 10 12]]\n"
     ]
    }
   ],
   "source": [
    "# Matrix addition\n",
    "from numpy import array\n",
    "\n",
    "A = array([\n",
    "    [1, 2, 3],\n",
    "    [4, 5, 6]\n",
    "])\n",
    "\n",
    "B = array([\n",
    "    [1, 2, 3],\n",
    "    [4, 5, 6]\n",
    "])\n",
    "\n",
    "# Add matrices\n",
    "C = A + B\n",
    "print(C) # [[ 2  4  6]\n",
    "         #  [ 8 10 12]]"
   ]
  },
  {
   "cell_type": "code",
   "execution_count": 3,
   "metadata": {},
   "outputs": [
    {
     "name": "stdout",
     "output_type": "stream",
     "text": [
      "[[0.5 1.5 2.5]\n",
      " [3.5 4.5 5.5]]\n"
     ]
    }
   ],
   "source": [
    "# Matrix substraction\n",
    "from numpy import array\n",
    "\n",
    "A = array([\n",
    "    [1, 2, 3],\n",
    "    [4, 5, 6]\n",
    "])\n",
    "\n",
    "B = array([\n",
    "    [0.5, 0.5, 0.5],\n",
    "    [0.5, 0.5, 0.5]\n",
    "])\n",
    "\n",
    "# Substract matrices\n",
    "C = A - B\n",
    "print(C) # [[0.5 1.5 2.5]\n",
    "         #  [3.5 4.5 5.5]]"
   ]
  },
  {
   "cell_type": "code",
   "execution_count": 4,
   "metadata": {},
   "outputs": [
    {
     "name": "stdout",
     "output_type": "stream",
     "text": [
      "[[ 1  4  9]\n",
      " [16 25 36]]\n"
     ]
    }
   ],
   "source": [
    "# Matrix multiplication (Hadamard Product)\n",
    "from numpy import array\n",
    "\n",
    "A = array([\n",
    "    [1, 2, 3],\n",
    "    [4, 5, 6]\n",
    "])\n",
    "\n",
    "B = array([\n",
    "    [1, 2, 3],\n",
    "    [4, 5, 6]\n",
    "])\n",
    "\n",
    "# multiply matrices\n",
    "C = A * B\n",
    "print(C) # [[ 1  4  9]\n",
    "         #  [16 25 36]]"
   ]
  },
  {
   "cell_type": "code",
   "execution_count": 5,
   "metadata": {},
   "outputs": [
    {
     "name": "stdout",
     "output_type": "stream",
     "text": [
      "[[1. 1. 1.]\n",
      " [1. 1. 1.]]\n"
     ]
    }
   ],
   "source": [
    "# Matrix division\n",
    "from numpy import array\n",
    "\n",
    "A = array([\n",
    "    [1, 2, 3],\n",
    "    [4, 5, 6]\n",
    "])\n",
    "\n",
    "B = array([\n",
    "    [1, 2, 3],\n",
    "    [4, 5, 6]\n",
    "])\n",
    "\n",
    "# Divide matrices\n",
    "C = A / B\n",
    "print(C) # [[1. 1. 1.]\n",
    "         #  [1. 1. 1.]]"
   ]
  },
  {
   "cell_type": "code",
   "execution_count": 6,
   "metadata": {},
   "outputs": [
    {
     "name": "stdout",
     "output_type": "stream",
     "text": [
      "[[ 7 10]\n",
      " [15 22]\n",
      " [23 34]]\n",
      "[[ 7 10]\n",
      " [15 22]\n",
      " [23 34]]\n"
     ]
    }
   ],
   "source": [
    "# Matrix-Matrix Multiplication (Matrix dot product)\n",
    "# Rule: The number of columns (n) in the first matrix (A) \n",
    "# must equal the number of rows (m) in the second matrix (B).\n",
    "\n",
    "from numpy import array\n",
    "\n",
    "A = array([\n",
    "    [1, 2],\n",
    "    [3, 4],\n",
    "    [5, 6]\n",
    "])\n",
    "\n",
    "B = array([\n",
    "    [1, 2],\n",
    "    [3, 4]\n",
    "])\n",
    "\n",
    "# Mutiply matrix\n",
    "C = A.dot(B)\n",
    "print(C) # [[ 7 10]\n",
    "         #  [15 22]\n",
    "         #  [23 34]]\n",
    "\n",
    "# Mltiply matrix with @ operator\n",
    "D = A @ B\n",
    "print(D) # [[ 7 10]\n",
    "         #  [15 22]\n",
    "         #  [23 34]]"
   ]
  },
  {
   "cell_type": "code",
   "execution_count": 7,
   "metadata": {},
   "outputs": [
    {
     "name": "stdout",
     "output_type": "stream",
     "text": [
      "[1.5 3.5 5.5]\n"
     ]
    }
   ],
   "source": [
    "# Matrix-Vector Multiplication\n",
    "# Rule: the number of columns in the matrix must equal \n",
    "# the number of items in the vector\n",
    "from numpy import array\n",
    "\n",
    "A = array([\n",
    "    [1, 2],\n",
    "    [3, 4],\n",
    "    [5, 6]\n",
    "])\n",
    "\n",
    "B = array([0.5, 0.5])\n",
    "\n",
    "# Multiply\n",
    "C = A.dot(B)\n",
    "print(C) # [1.5 3.5 5.5]"
   ]
  },
  {
   "cell_type": "code",
   "execution_count": 8,
   "metadata": {},
   "outputs": [
    {
     "name": "stdout",
     "output_type": "stream",
     "text": [
      "[[0.5 1. ]\n",
      " [1.5 2. ]\n",
      " [2.5 3. ]]\n"
     ]
    }
   ],
   "source": [
    "# Matrix-scalar multiplication\n",
    "from numpy import array \n",
    "\n",
    "A = array([\n",
    "    [1, 2],\n",
    "    [3, 4],\n",
    "    [5, 6]\n",
    "])\n",
    "\n",
    "b = 0.5\n",
    "\n",
    "# Multiply\n",
    "C = A * b\n",
    "print(C) # [[0.5 1. ]\n",
    "         #  [1.5 2. ]\n",
    "         #  [2.5 3. ]]"
   ]
  },
  {
   "cell_type": "code",
   "execution_count": null,
   "metadata": {},
   "outputs": [],
   "source": []
  }
 ],
 "metadata": {
  "kernelspec": {
   "display_name": "Python 3",
   "language": "python",
   "name": "python3"
  },
  "language_info": {
   "codemirror_mode": {
    "name": "ipython",
    "version": 3
   },
   "file_extension": ".py",
   "mimetype": "text/x-python",
   "name": "python",
   "nbconvert_exporter": "python",
   "pygments_lexer": "ipython3",
   "version": "3.7.1"
  }
 },
 "nbformat": 4,
 "nbformat_minor": 2
}
