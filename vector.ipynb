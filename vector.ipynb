{
 "cells": [
  {
   "cell_type": "code",
   "execution_count": 1,
   "metadata": {},
   "outputs": [
    {
     "name": "stdout",
     "output_type": "stream",
     "text": [
      "[1 2 3]\n"
     ]
    }
   ],
   "source": [
    "# Create a vector\n",
    "from numpy import array\n",
    "\n",
    "# define vector\n",
    "v = array([1, 2, 3])\n",
    "print(v) # [1 2 3]"
   ]
  },
  {
   "cell_type": "code",
   "execution_count": 2,
   "metadata": {},
   "outputs": [
    {
     "name": "stdout",
     "output_type": "stream",
     "text": [
      "[2 4 6]\n"
     ]
    }
   ],
   "source": [
    "# Vector addition\n",
    "from numpy import array\n",
    "\n",
    "a = array([1, 2, 3])\n",
    "b = array([1, 2, 3])\n",
    "\n",
    "# Add vectors\n",
    "c = a + b\n",
    "print(c) # [2 4 6]"
   ]
  },
  {
   "cell_type": "code",
   "execution_count": 3,
   "metadata": {},
   "outputs": [
    {
     "name": "stdout",
     "output_type": "stream",
     "text": [
      "[0.5 1.5 2.5]\n"
     ]
    }
   ],
   "source": [
    "# Vector substraction\n",
    "from numpy import array\n",
    "\n",
    "a = array([1, 2, 3])\n",
    "b = array([0.5, 0.5, 0.5])\n",
    "\n",
    "# Substract vectors\n",
    "c = a - b\n",
    "print(c) # [0.5 1.5 2.5]"
   ]
  },
  {
   "cell_type": "code",
   "execution_count": 4,
   "metadata": {},
   "outputs": [
    {
     "name": "stdout",
     "output_type": "stream",
     "text": [
      "[1 4 9]\n"
     ]
    }
   ],
   "source": [
    "# Vector multiplication\n",
    "from numpy import array\n",
    "\n",
    "a = array([1, 2, 3])\n",
    "b = array([1, 2, 3])\n",
    "\n",
    "# Multiply vectors\n",
    "c = a * b\n",
    "print(c) # [1 4 9]"
   ]
  },
  {
   "cell_type": "code",
   "execution_count": 5,
   "metadata": {},
   "outputs": [
    {
     "name": "stdout",
     "output_type": "stream",
     "text": [
      "[1. 1. 1.]\n"
     ]
    }
   ],
   "source": [
    "# Vector division\n",
    "from numpy import array\n",
    "\n",
    "a = array([1, 2, 3])\n",
    "b = array([1, 2, 3])\n",
    "\n",
    "# Divide vectors\n",
    "c = a / b\n",
    "print(c) # [1. 1. 1.]\n"
   ]
  },
  {
   "cell_type": "code",
   "execution_count": 6,
   "metadata": {},
   "outputs": [
    {
     "name": "stdout",
     "output_type": "stream",
     "text": [
      "14\n"
     ]
    }
   ],
   "source": [
    "# Vector dot product\n",
    "from numpy import array\n",
    "\n",
    "a = array([1, 2, 3])\n",
    "b = array([1, 2, 3])\n",
    "\n",
    "# Dot product\n",
    "c = a.dot(b) # 1*1 + 2*2 + 3*3\n",
    "print(c) # 14"
   ]
  },
  {
   "cell_type": "code",
   "execution_count": 7,
   "metadata": {},
   "outputs": [
    {
     "name": "stdout",
     "output_type": "stream",
     "text": [
      "[0.5 1.  1.5]\n"
     ]
    }
   ],
   "source": [
    "# Vector scalar multiplication\n",
    "from numpy import array\n",
    "\n",
    "a = array([1, 2, 3])\n",
    "s = 0.5\n",
    "\n",
    "# Scalar multiplication\n",
    "c = s * a\n",
    "print(c) # [0.5 1.  1.5]"
   ]
  },
  {
   "cell_type": "code",
   "execution_count": null,
   "metadata": {},
   "outputs": [],
   "source": []
  }
 ],
 "metadata": {
  "kernelspec": {
   "display_name": "Python 3",
   "language": "python",
   "name": "python3"
  },
  "language_info": {
   "codemirror_mode": {
    "name": "ipython",
    "version": 3
   },
   "file_extension": ".py",
   "mimetype": "text/x-python",
   "name": "python",
   "nbconvert_exporter": "python",
   "pygments_lexer": "ipython3",
   "version": "3.7.1"
  }
 },
 "nbformat": 4,
 "nbformat_minor": 2
}
